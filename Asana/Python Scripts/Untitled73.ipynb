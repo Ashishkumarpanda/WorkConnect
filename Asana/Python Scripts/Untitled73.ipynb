{
 "cells": [
  {
   "cell_type": "code",
   "execution_count": 1,
   "metadata": {},
   "outputs": [],
   "source": [
    "import requests"
   ]
  },
  {
   "cell_type": "code",
   "execution_count": 5,
   "metadata": {},
   "outputs": [],
   "source": [
    "url = \"https://app.asana.com/api/1.0/workspaces\"\n",
    "#admin token\n",
    "token = \"1/1201799234315739:a4ddf5bba1cfe7c19040aff0639f599a\"\n",
    "\n",
    "headers = {'Authorization': 'Bearer ' +token}"
   ]
  },
  {
   "cell_type": "code",
   "execution_count": 6,
   "metadata": {},
   "outputs": [],
   "source": [
    "r = requests.get(url=url,headers=headers)"
   ]
  },
  {
   "cell_type": "code",
   "execution_count": 7,
   "metadata": {},
   "outputs": [
    {
     "name": "stdout",
     "output_type": "stream",
     "text": [
      "{'data': [{'gid': '1201799158627325', 'name': 'IT', 'resource_type': 'workspace'}]}\n"
     ]
    }
   ],
   "source": [
    "print(r.json())"
   ]
  },
  {
   "cell_type": "code",
   "execution_count": 8,
   "metadata": {},
   "outputs": [
    {
     "data": {
      "text/plain": [
       "{'data': [{'gid': '1201643271450983', 'name': '', 'resource_type': 'user'},\n",
       "  {'gid': '1201643271611255', 'name': '', 'resource_type': 'user'},\n",
       "  {'gid': '1201821545423870', 'name': '', 'resource_type': 'user'},\n",
       "  {'gid': '1201799234315739',\n",
       "   'name': 'Ashish Kumar Panda',\n",
       "   'resource_type': 'user'},\n",
       "  {'gid': '1201643266461043',\n",
       "   'name': 'Trideep Barik',\n",
       "   'resource_type': 'user'}]}"
      ]
     },
     "execution_count": 8,
     "metadata": {},
     "output_type": "execute_result"
    }
   ],
   "source": [
    "url1 = \"https://app.asana.com/api/1.0/workspaces/1201799158627325/users\"\n",
    "r = requests.get(url=url1,headers=headers)\n",
    "r.json()"
   ]
  },
  {
   "cell_type": "code",
   "execution_count": 9,
   "metadata": {},
   "outputs": [
    {
     "data": {
      "text/plain": [
       "{'data': [{'gid': '1201799160566644',\n",
       "   'assignee': {'gid': '1201643266461043', 'resource_type': 'user'},\n",
       "   'due_on': '2022-02-14',\n",
       "   'name': 'Task 1'}]}"
      ]
     },
     "execution_count": 9,
     "metadata": {},
     "output_type": "execute_result"
    }
   ],
   "source": [
    "url2 = \"https://app.asana.com/api/1.0/projects/1201799160566629/tasks?opt_fields=assignee,due_on,name\"\n",
    "r = requests.get(url=url2,headers=headers)\n",
    "r.json()"
   ]
  },
  {
   "cell_type": "code",
   "execution_count": null,
   "metadata": {},
   "outputs": [],
   "source": []
  },
  {
   "cell_type": "code",
   "execution_count": null,
   "metadata": {},
   "outputs": [],
   "source": []
  },
  {
   "cell_type": "code",
   "execution_count": null,
   "metadata": {},
   "outputs": [],
   "source": []
  },
  {
   "cell_type": "code",
   "execution_count": null,
   "metadata": {},
   "outputs": [],
   "source": []
  },
  {
   "cell_type": "code",
   "execution_count": null,
   "metadata": {},
   "outputs": [],
   "source": []
  }
 ],
 "metadata": {
  "kernelspec": {
   "display_name": "Python 3",
   "language": "python",
   "name": "python3"
  },
  "language_info": {
   "codemirror_mode": {
    "name": "ipython",
    "version": 3
   },
   "file_extension": ".py",
   "mimetype": "text/x-python",
   "name": "python",
   "nbconvert_exporter": "python",
   "pygments_lexer": "ipython3",
   "version": "3.7.6"
  }
 },
 "nbformat": 4,
 "nbformat_minor": 4
}
